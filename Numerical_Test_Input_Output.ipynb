{
 "cells": [
  {
   "cell_type": "code",
   "execution_count": null,
   "metadata": {
    "slideshow": {
     "slide_type": "-"
    }
   },
   "outputs": [],
   "source": [
    "import sys\n",
    "import scipy.io as IO\n",
    "import scipy.sparse as sps\n",
    "from matrices import Poissonmatrix\n",
    "from CGTest_Input import CG_gather\n",
    "import os\n",
    "# Load names of test matrices - insert path to matrices here\n",
    "mm_matrices = [mtrname[:-7] for mtrname in os.listdir('matrices\\\\matrixmarket') if mtrname[-7:] == '.mtx.gz']\n",
    "\n",
    "# Make a list of favorable colours\n",
    "col = ['tab:blue'  , 'tab:pink' , 'tab:orange', 'tab:green', 'tab:red' ,\n",
    "       'tab:purple', 'tab:brown', 'tab:gray'  , 'tab:olive', 'tab:cyan']"
   ]
  },
  {
   "cell_type": "code",
   "execution_count": null,
   "metadata": {},
   "outputs": [],
   "source": [
    "import matplotlib.pyplot as plt\n",
    "# Show a list of usable test matrices\n",
    "print(\"Total of\",len(mm_matrices),\"matrices.\")\n",
    "%matplotlib inline\n",
    "for i,matrix in enumerate(mm_matrices):\n",
    "    shp = IO.mmread('matrices\\\\matrixmarket\\\\' + matrix).tocsr().shape\n",
    "    print(\"%2i: %15s has shape (%5i,%5i) \" % (i,matrix,shp[0],shp[1]))\n",
    "    plt.spy(IO.mmread('matrices\\\\matrixmarket\\\\' + matrix).tocsr())\n",
    "    plt.show()"
   ]
  },
  {
   "cell_type": "code",
   "execution_count": null,
   "metadata": {},
   "outputs": [],
   "source": [
    "# Main input tool\n",
    "\n",
    "# Choose Operators\n",
    "#            DeflOp  ,Prol  ,dim,colour,omg\n",
    "testlist = [('ADEF2' ,'121' ,'!',col[0],1.00),\n",
    "            ('ADEF2' ,'opt' ,'!',col[1],1.00),\n",
    "            ('ADEF2' ,'opt' , 1 ,col[2],1.00),\n",
    "            ('ADEF2' ,'opt' , 3 ,col[3],1.00),\n",
    "            ('ADEF2' ,'opt' , 6 ,col[4],1.00),\n",
    "            ('ADEF2' ,'opt' ,10 ,col[5],1.00),\n",
    "            ('ADEF2' ,'opt' ,15 ,col[6],1.00),\n",
    "            ('ADEF2' ,'11v' ,'!',col[7],1.00),\n",
    "            ('ADEF2' ,'11v' , 1 ,col[8],1.00),\n",
    "            ('ADEF2' ,'11v' , 6 ,col[9],1.00)]\n",
    "\n",
    "T        = 100\n",
    "errors = []\n",
    "\n",
    "# Choose list of dimensions for Poissonmatrix\n",
    "for n in [100,500,1000,2000]:\n",
    "    Matrix   = Poissonmatrix(n), 'Poissonmatrix' + str(n)\n",
    "    try:\n",
    "        CG_gather(Matrix,testlist,T);\n",
    "    except:\n",
    "        errors.append([\"Fehler bei Matrix\",index,mm_matrices[index],sys.exc_info()])\n",
    "\n",
    "# Choose matrices from list  mm_matrices\n",
    "for index in [0,2,3,4,6,7,8,9,10,11,12,14,15,16,17,20,21,22,24,25,26,27,28]:\n",
    "    Matrix   = IO.mmread('matrices\\\\matrixmarket\\\\' + mm_matrices[index]).tocsr(), mm_matrices[index]\n",
    "    try:\n",
    "        CG_gather(Matrix,testlist,T);\n",
    "    except:\n",
    "        errors.append([\"Fehler bei Matrix\",index,mm_matrices[index],sys.exc_info()])\n",
    "        \n",
    "print(\"Errors occurred:\",len(errors))"
   ]
  },
  {
   "cell_type": "code",
   "execution_count": null,
   "metadata": {},
   "outputs": [],
   "source": [
    "from CGTest_Input import AnormCondgather\n",
    "AnormCondgather()"
   ]
  },
  {
   "cell_type": "code",
   "execution_count": null,
   "metadata": {},
   "outputs": [],
   "source": [
    "from CGTest_Input import Patch_results\n",
    "Patch_results()"
   ]
  },
  {
   "cell_type": "code",
   "execution_count": null,
   "metadata": {},
   "outputs": [],
   "source": [
    "# Main output tool\n",
    "\n",
    "%matplotlib inline\n",
    "from CGTest_Output import CG_plot_final\n",
    "CG_plot_final()"
   ]
  }
 ],
 "metadata": {
  "kernelspec": {
   "display_name": "Python 3",
   "language": "python",
   "name": "python3"
  },
  "language_info": {
   "codemirror_mode": {
    "name": "ipython",
    "version": 3
   },
   "file_extension": ".py",
   "mimetype": "text/x-python",
   "name": "python",
   "nbconvert_exporter": "python",
   "pygments_lexer": "ipython3",
   "version": "3.7.4"
  }
 },
 "nbformat": 4,
 "nbformat_minor": 4
}
